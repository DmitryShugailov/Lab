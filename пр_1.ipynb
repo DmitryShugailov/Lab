{
  "nbformat": 4,
  "nbformat_minor": 0,
  "metadata": {
    "colab": {
      "name": "пр 1.ipynb",
      "provenance": [],
      "collapsed_sections": [],
      "authorship_tag": "ABX9TyNJCdi2XWpGklz6QrQTIAau",
      "include_colab_link": true
    },
    "kernelspec": {
      "name": "python3",
      "display_name": "Python 3"
    },
    "language_info": {
      "name": "python"
    }
  },
  "cells": [
    {
      "cell_type": "markdown",
      "metadata": {
        "id": "view-in-github",
        "colab_type": "text"
      },
      "source": [
        "<a href=\"https://colab.research.google.com/github/DmitryShugailov/Lab/blob/main/%D0%BF%D1%80_1.ipynb\" target=\"_parent\"><img src=\"https://colab.research.google.com/assets/colab-badge.svg\" alt=\"Open In Colab\"/></a>"
      ]
    },
    {
      "cell_type": "code",
      "metadata": {
        "id": "ni1cqez7Ay-q",
        "colab": {
          "base_uri": "https://localhost:8080/"
        },
        "outputId": "dd4b8f43-828b-401e-8f33-91c45e93dd41"
      },
      "source": [
        "import sympy as sp\n",
        "import math\n",
        "from sympy.solvers.solveset import linsolve \n",
        "sp.init_printing()\n",
        "class Figure:\n",
        "    def __init__(self, color=\"White\"):\n",
        "      self.color=color\n",
        "    def change(self):\n",
        "      self.color = input(\"Замените цвет фигуры\")\n",
        "\n",
        "t = float(input(\"Введите угол\"))\n",
        "\n",
        "\n",
        "\n",
        "class Oval(Figure):\n",
        "    def __init__(self, a, b, t):\n",
        "      self.a = a\n",
        "      self.b = b\n",
        "      self.t = t\n",
        "    if t >= 2 * math.pi:\n",
        "      print(\"Ошибка\")\n",
        "    elif t < 0:\n",
        "      print(\"Ошибка\")\n",
        "    def calk(self):\n",
        "      self.x, self.y = sp.symbols(\"x y\")\n",
        "      eq1 = sp.Eq(self.x, self.a * (math.cos(self.t)))\n",
        "      eq2 = sp.Eq(self.y, self.b * (math.sin(self.t)))\n",
        "      eqs = [eq1, eq2]\n",
        "      res = linsolve(eqs, (self.x, self.y))\n",
        "      print(res)\n",
        "a = float(input())\n",
        "b = float(input())\n",
        "objSize=Oval(a, b, t)\n",
        "objSize.calk()\n",
        "class Square(Figure):\n",
        "    def __init__(self, z, q):\n",
        "      self.z = z\n",
        "      self.q = q\n",
        "      print(self.z * self.q)\n",
        "objSquare = Square\n",
        "objSquare(1,2)"
      ],
      "execution_count": 6,
      "outputs": [
        {
          "output_type": "stream",
          "name": "stdout",
          "text": [
            "Введите угол120\n",
            "Ошибка\n",
            "30\n",
            "52\n",
            "FiniteSet((24.4254291157969, 30.1917815790403))\n",
            "2\n"
          ]
        },
        {
          "output_type": "execute_result",
          "data": {
            "text/plain": [
              "<__main__.Square at 0x7f7df871e650>"
            ]
          },
          "metadata": {},
          "execution_count": 6
        }
      ]
    },
    {
      "cell_type": "code",
      "source": [
        ""
      ],
      "metadata": {
        "id": "I94M7JhGmXHT"
      },
      "execution_count": null,
      "outputs": []
    }
  ]
}