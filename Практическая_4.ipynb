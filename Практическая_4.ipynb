{
  "nbformat": 4,
  "nbformat_minor": 0,
  "metadata": {
    "colab": {
      "name": "Практическая 4.ipynb",
      "provenance": [],
      "collapsed_sections": [],
      "authorship_tag": "ABX9TyO4cuxltD3bGbCQwo7m5JWU",
      "include_colab_link": true
    },
    "kernelspec": {
      "name": "python3",
      "display_name": "Python 3"
    },
    "language_info": {
      "name": "python"
    }
  },
  "cells": [
    {
      "cell_type": "markdown",
      "metadata": {
        "id": "view-in-github",
        "colab_type": "text"
      },
      "source": [
        "<a href=\"https://colab.research.google.com/github/DmitryShugailov/Lab/blob/main/%D0%9F%D1%80%D0%B0%D0%BA%D1%82%D0%B8%D1%87%D0%B5%D1%81%D0%BA%D0%B0%D1%8F_4.ipynb\" target=\"_parent\"><img src=\"https://colab.research.google.com/assets/colab-badge.svg\" alt=\"Open In Colab\"/></a>"
      ]
    },
    {
      "cell_type": "markdown",
      "metadata": {
        "id": "hFZwjm8ACP0o"
      },
      "source": [
        "![оп.PNG](data:image/png;base64,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)"
      ]
    },
    {
      "cell_type": "code",
      "metadata": {
        "colab": {
          "base_uri": "https://localhost:8080/"
        },
        "id": "Mb7rinKpzOK8",
        "outputId": "0c9429cd-f240-4461-cab9-807078194db3"
      },
      "source": [
        "# Практическая работа 4\n",
        "# Шугайлов Дмитрий АДЭУ-211\n",
        "# Организация - страховая компания - нефтегазовая компания - завод\n",
        "\n",
        "class Organ:\n",
        "    def __init__(self, name, mon):\n",
        "      self.name = name   # Название организации\n",
        "      self.mon = mon     # Бюджет организации\n",
        "    def poza(self):\n",
        "      print('Организация: {} \\nБюджет: {}'.format(self.name, self.mon))\n",
        "    def pick(self):\n",
        "      if 'Международная' in self.name:   # выявления потанциала \n",
        "          if self.mon + 200000 > 1000000:\n",
        "            print('Успешная компания')\n",
        "          else: \n",
        "            print('Работаем лучше')\n",
        "      else:\n",
        "        print('Обычная компания')\n",
        "    def pas(self):\n",
        "      upmon = self.mon + (self.mon * (1/10))     # доход за счет вкладов в банке\n",
        "      print('Бюджет увеличился за счет процента вклада в банке: {}'.format(upmon))\n",
        "\n",
        "class Strah(Organ):\n",
        "    def __init__(self, name, mon, perc):\n",
        "      Organ.__init__(self, name, mon)\n",
        "      self.perc = perc   # процент доходности с контраутов страхования\n",
        "    def raz(self):  # расчет дохода с процентами\n",
        "      K = self.mon * (self.perc/100) + self.mon\n",
        "      H = K - K*(13/100) \n",
        "      print('Организация: {} \\nПроцент с контрактов: {}'.format(self.name, H))\n",
        "    def danet(self): # определяем заработали мы или нет\n",
        "      if self.mon > 200000:\n",
        "        print('Ого! Мы заработали')\n",
        "      else: \n",
        "        print('Одни убытки...')\n",
        "\n",
        "class Black(Organ):\n",
        "    def __init__(self, name, mon, doh):\n",
        "      Organ.__init__(self, name, mon)\n",
        "      self.doh = doh # курс нефти\n",
        "    def piz(self):\n",
        "      if self.doh > 100:\n",
        "        P = self.doh * 100 # расчет сколько получим денег за 100 едениц нефти\n",
        "        print('Организация: {} \\nСтоит продать нефть по цени за 100 штук: {}'.format(self.name, P))\n",
        "      else:\n",
        "        perint('Не продаем нефть')\n",
        "    def kaf(self): # вычет налога \n",
        "      if 'Российская' in self.name:\n",
        "        H = self.mon - self.mon*(5/10)\n",
        "        print('С вычетом налога ваш бюджет: {}'.format(H))\n",
        "      else:\n",
        "        print('Мы не берем налоги') \n",
        "\n",
        "class Zavod(Black):\n",
        "    def __init__(self, name, mon, doh, proiz):\n",
        "      Black.__init__(self, name, mon, doh)\n",
        "      self.proiz = proiz # производительность\n",
        "    def Li(self): # рассчитываем коэфицент производительности\n",
        "      H = (self.mon + self.doh) / self.proiz\n",
        "      print('Организация: {} \\nПроизводительность: {}'.format(self.name, round(H)))\n",
        "    def Kappa(self): # рассчитываем выйграли ли мы в жизнь\n",
        "      if self.mon > 1000000:\n",
        "        print('Вы выйграли в жизнь!')\n",
        "      else:\n",
        "        print('Вы банкрот!')\n",
        "\n",
        "o1 = Organ('Международная компания', 200000)\n",
        "o1.poza()\n",
        "o1.pick()\n",
        "o1.pas()\n",
        "\n",
        "o2 = Strah('Страховая компания', 300000, 20)\n",
        "o2.raz()\n",
        "o2.danet()\n",
        "\n",
        "o3 = Black('Российская нефтегазовая компания', 400000, 50000)\n",
        "o3.piz()\n",
        "o3.kaf()\n",
        "\n",
        "o4 = Zavod('Нефтегазовый завод', 500000, 100000, 250)\n",
        "o4.Li()\n",
        "o4.Kappa()"
      ],
      "execution_count": null,
      "outputs": [
        {
          "output_type": "stream",
          "name": "stdout",
          "text": [
            "Организация: Международная компания \n",
            "Бюджет: 200000\n",
            "Работаем лучше\n",
            "Бюджет увеличился за счет процента вклада в банке: 220000.0\n",
            "Организация: Страховая компания \n",
            "Процент с контрактов: 313200.0\n",
            "Ого! Мы заработали\n",
            "Организация: Российская нефтегазовая компания \n",
            "Стоит продать нефть по цени за 100 штук: 5000000\n",
            "С вычетом налога ваш бюджет: 200000.0\n",
            "Организация: Нефтегазовый завод \n",
            "Производительность: 2400\n",
            "Вы банкрот!\n"
          ]
        }
      ]
    }
  ]
}