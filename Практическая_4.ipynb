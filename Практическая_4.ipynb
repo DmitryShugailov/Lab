{
  "nbformat": 4,
  "nbformat_minor": 0,
  "metadata": {
    "colab": {
      "name": "Практическая 4.ipynb",
      "provenance": [],
      "collapsed_sections": [],
      "authorship_tag": "ABX9TyPCmMAtocB7M04IeBmM9UTq",
      "include_colab_link": true
    },
    "kernelspec": {
      "name": "python3",
      "display_name": "Python 3"
    },
    "language_info": {
      "name": "python"
    }
  },
  "cells": [
    {
      "cell_type": "markdown",
      "metadata": {
        "id": "view-in-github",
        "colab_type": "text"
      },
      "source": [
        "<a href=\"https://colab.research.google.com/github/DmitryShugailov/Lab/blob/main/%D0%9F%D1%80%D0%B0%D0%BA%D1%82%D0%B8%D1%87%D0%B5%D1%81%D0%BA%D0%B0%D1%8F_4.ipynb\" target=\"_parent\"><img src=\"https://colab.research.google.com/assets/colab-badge.svg\" alt=\"Open In Colab\"/></a>"
      ]
    },
    {
      "cell_type": "markdown",
      "metadata": {
        "id": "hFZwjm8ACP0o"
      },
      "source": [
        "![оп.PNG](data:image/png;base64,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)"
      ]
    },
    {
      "cell_type": "code",
      "metadata": {
        "colab": {
          "base_uri": "https://localhost:8080/"
        },
        "id": "Mb7rinKpzOK8",
        "outputId": "0c9429cd-f240-4461-cab9-807078194db3"
      },
      "source": [
        "# Практическая работа 4\n",
        "# Шугайлов Дмитрий АДЭУ-211\n",
        "# Организация - страховая компания - нефтегазовая компания - завод\n",
        "\n",
        "class Organ:\n",
        "    def __init__(self, name, mon):\n",
        "      self.name = name   # Название организации\n",
        "      self.mon = mon     # Бюджет организации\n",
        "    def poza(self):\n",
        "      print('Организация: {} \\nБюджет: {}'.format(self.name, self.mon))\n",
        "    def pick(self):\n",
        "      if 'Международная' in self.name:   # выявления потанциала \n",
        "          if self.mon + 200000 > 1000000:\n",
        "            print('Успешная компания')\n",
        "          else: \n",
        "            print('Работаем лучше')\n",
        "      else:\n",
        "        print('Обычная компания')\n",
        "    def pas(self):\n",
        "      upmon = self.mon + (self.mon * (1/10))     # доход за счет вкладов в банке\n",
        "      print('Бюджет увеличился за счет процента вклада в банке: {}'.format(upmon))\n",
        "\n",
        "class Strah(Organ):\n",
        "    def __init__(self, name, mon, perc):\n",
        "      Organ.__init__(self, name, mon)\n",
        "      self.perc = perc   # процент доходности с контраутов\n",
        "    def raz(self):  # расчет дохода с процентами\n",
        "      K = self.mon * (self.perc/100) + self.mon\n",
        "      H = K - K*(13/100) \n",
        "      print('Организация: {} \\nПроцент с контрактов: {}'.format(self.name, H))\n",
        "    def piz(self): # определяем заработали мы или нет\n",
        "      if self.mon > 200000:\n",
        "        print('Ого! Мы заработали')\n",
        "      else: \n",
        "        print('Одни убытки...')\n",
        "\n",
        "class Black(Organ):\n",
        "    def __init__(self, name, mon, doh):\n",
        "      Organ.__init__(self, name, mon)\n",
        "      self.doh = doh # курс нефти\n",
        "    def piz(self):\n",
        "      if self.doh > 100:\n",
        "        P = self.doh * 100 # расчет сколько получим денег за 100 едениц нефти\n",
        "        print('Организация: {} \\nСтоит продать нефть по цени за 100 штук: {}'.format(self.name, P))\n",
        "      else:\n",
        "        perint('Не продаем нефть')\n",
        "    def kaf(self): # вычет налога \n",
        "      if 'Российская' in self.name:\n",
        "        H = self.mon - self.mon*(5/10)\n",
        "        print('С вычетом налога ваш бюджет: {}'.format(H))\n",
        "      else:\n",
        "        print('Мы не берем налоги') \n",
        "\n",
        "class Zavod(Black):\n",
        "    def __init__(self, name, mon, doh, proiz):\n",
        "      Black.__init__(self, name, mon, doh)\n",
        "      self.proiz = proiz # производительность\n",
        "    def Li(self): # рассчитываем коэфицент производительности\n",
        "      H = (self.mon + self.doh) / self.proiz\n",
        "      print('Организация: {} \\nПроизводительность: {}'.format(self.name, round(H)))\n",
        "    def Kappa(self): # рассчитываем выйграли ли мы в жизнь\n",
        "      if self.mon > 1000000:\n",
        "        print('Вы выйграли в жизнь!')\n",
        "      else:\n",
        "        print('Вы банкрот!')\n",
        "\n",
        "o1 = Organ('Международная компания', 200000)\n",
        "o1.poza()\n",
        "o1.pick()\n",
        "o1.pas()\n",
        "\n",
        "o2 = Strah('Страховая компания', 300000, 20)\n",
        "o2.raz()\n",
        "o2.piz()\n",
        "\n",
        "o3 = Black('Российская нефтегазовая компания', 400000, 50000)\n",
        "o3.piz()\n",
        "o3.kaf()\n",
        "\n",
        "o4 = Zavod('Нефтегазовый завод', 500000, 100000, 250)\n",
        "o4.Li()\n",
        "o4.Kappa()"
      ],
      "execution_count": null,
      "outputs": [
        {
          "output_type": "stream",
          "name": "stdout",
          "text": [
            "Организация: Международная компания \n",
            "Бюджет: 200000\n",
            "Работаем лучше\n",
            "Бюджет увеличился за счет процента вклада в банке: 220000.0\n",
            "Организация: Страховая компания \n",
            "Процент с контрактов: 313200.0\n",
            "Ого! Мы заработали\n",
            "Организация: Российская нефтегазовая компания \n",
            "Стоит продать нефть по цени за 100 штук: 5000000\n",
            "С вычетом налога ваш бюджет: 200000.0\n",
            "Организация: Нефтегазовый завод \n",
            "Производительность: 2400\n",
            "Вы банкрот!\n"
          ]
        }
      ]
    }
  ]
}