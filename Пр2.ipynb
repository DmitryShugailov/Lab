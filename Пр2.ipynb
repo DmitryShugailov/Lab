{
  "nbformat": 4,
  "nbformat_minor": 0,
  "metadata": {
    "colab": {
      "name": "Пр2.ipynb",
      "provenance": [],
      "authorship_tag": "ABX9TyPcBQIEz/s6RcJirdmTjr6f",
      "include_colab_link": true
    },
    "kernelspec": {
      "name": "python3",
      "display_name": "Python 3"
    },
    "language_info": {
      "name": "python"
    }
  },
  "cells": [
    {
      "cell_type": "markdown",
      "metadata": {
        "id": "view-in-github",
        "colab_type": "text"
      },
      "source": [
        "<a href=\"https://colab.research.google.com/github/DmitryShugailov/Lab/blob/main/%D0%9F%D1%802.ipynb\" target=\"_parent\"><img src=\"https://colab.research.google.com/assets/colab-badge.svg\" alt=\"Open In Colab\"/></a>"
      ]
    },
    {
      "cell_type": "code",
      "execution_count": null,
      "metadata": {
        "id": "YVW5eNREmmvx"
      },
      "outputs": [],
      "source": [
        "class Person:\n",
        "    name = str()\n",
        "    surname = str()\n",
        "    qualify = int()\n",
        "    sex = str()\n",
        "    def __init__(self, name, surname, qualify = 1, sex='Мужской'):\n",
        "        self.name = name\n",
        "        self.surname = surname\n",
        "        self.qualify = qualify\n",
        "        self.sex = sex\n",
        "    def prints(self):\n",
        "        ls = [self.name, self.surname, str(self.qualify)]\n",
        "        return str(' '.join(ls))\n",
        "    def __del__(self):\n",
        "        ls = [self.name, self.surname]\n",
        "        if self.sex == 'Мужской':\n",
        "            text = \"Мистр \"\n",
        "        else:\n",
        "            text = \"Мисис \"\n",
        "        print('Прощайте, ' + text + str(' '.join(ls)))\n",
        "if __name__ == '__main__':\n",
        "    a = Person(\"Дмитрий\", \"Шугайлов\", 20)\n",
        "    b = Person(\"Максим\", \"Комаров\", 15)\n",
        "    c = Person(\"Наташа\", \"Фиелова\", 100, \"Женский\")\n",
        "\n",
        "    print(a.prints())\n",
        "    print(b.prints())\n",
        "    print(c.prints())\n",
        "    del(b)\n",
        "    input('>')"
      ]
    },
    {
      "cell_type": "code",
      "source": [
        "GRADES = {2:'Задолжник', 4:'Ударник', 5:'Отличник'}\n",
        "\n",
        "class Student:\n",
        "    def __init__(self,full_name, birthday, gender, phone_number, email, university, grade, group=\"adeu-211\"):\n",
        "      self.full_name = full_name\n",
        "      self.birthday = birthday\n",
        "      self.gender = gender \n",
        "      self.phone_number = phone_number\n",
        "      self.email = email\n",
        "      self.university = university\n",
        "      self.grade = grade\n",
        "      self.group = group\n",
        "    def display(self):\n",
        "      return f\"\"\"Имя: {self.full_name},\n",
        "ДР: {self.birthday},\n",
        "Пол: {self.gender},\n",
        "Телефон: {self.phone_number},\n",
        "Почта: {self.email},\n",
        "ВУЗ: {self.university},\n",
        "Оценки: {self.grade},\n",
        "Группа: {self.group}\"\"\"\n",
        "    def __del__(self):\n",
        "       print(\"Отчислен(а) студент. {} {}\".format(self.full_name, GRADES[self.grade]))\n",
        "s1 = Student(\"Елена Петрова\", \"10.01.2021\", \"Ж\", \"+71234567891\", \"elena@mgpu.ru\", \"МГПУ\", 5)\n",
        "print(s1.display())\n",
        "s2 = Student(\"Михаил Петров\", \"10.01.2000\", \"М\", \"+71243567891\", \"miha@mgpu.ru\", \"МГПУ\", 4)\n",
        "print(s2.display())\n",
        "\n",
        "if s1.grade > s2.grade:\n",
        "  del s2\n",
        "elif s2.grade < 4:\n",
        "  del s1\n",
        "else:\n",
        "  print(\"Молодцы!\")"
      ],
      "metadata": {
        "id": "5LKnsXy0vWGD"
      },
      "execution_count": null,
      "outputs": []
    }
  ]
}