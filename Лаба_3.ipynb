{
  "nbformat": 4,
  "nbformat_minor": 0,
  "metadata": {
    "colab": {
      "name": "Лаба 3.ipynb",
      "provenance": [],
      "collapsed_sections": [],
      "authorship_tag": "ABX9TyO+bhu6QV6feTLK8fwYnd9Z",
      "include_colab_link": true
    },
    "kernelspec": {
      "name": "python3",
      "display_name": "Python 3"
    },
    "language_info": {
      "name": "python"
    }
  },
  "cells": [
    {
      "cell_type": "markdown",
      "metadata": {
        "id": "view-in-github",
        "colab_type": "text"
      },
      "source": [
        "<a href=\"https://colab.research.google.com/github/DmitryShugailov/Lab/blob/main/%D0%9B%D0%B0%D0%B1%D0%B0_3.ipynb\" target=\"_parent\"><img src=\"https://colab.research.google.com/assets/colab-badge.svg\" alt=\"Open In Colab\"/></a>"
      ]
    },
    {
      "cell_type": "markdown",
      "metadata": {
        "id": "vPGAy5N8QIuF"
      },
      "source": [
        "№ 3.2.1\n",
        "\n",
        "Составьте программу, которая запрашивает у пользователя 2 целых числа и выполняет операции:\n",
        "\n",
        "арифметические: +, -, * , / , // , %, **;\n",
        "\n",
        "сравнение: <, <=, >, >=, !=, ==,\n",
        "\n",
        "выводя на экран результат каждого действия. В случае получение вещественного результата, округлите его до 2-х знаков после запятой (используя функцию round())."
      ]
    },
    {
      "cell_type": "code",
      "metadata": {
        "colab": {
          "base_uri": "https://localhost:8080/"
        },
        "id": "HnVpcpK8OxrF",
        "outputId": "3e4b8270-0e05-4e41-ef0a-84395bb01e42"
      },
      "source": [
        "# Программирование на языке высокого уровня (Python).\n",
        "# https://www.yuripetrov.ru/edu/python\n",
        "# Задание task_03_02_01.\n",
        "#\n",
        "# Выполнил: Шугайлов Дмитрий Сергеевич\n",
        "# Группа: АДЭУ-211\n",
        "\n",
        "\n",
        "\n",
        "a = int(input(\"a=\"))\n",
        "b = int(input(\"b=\"))\n",
        "\n",
        "print(a + b)\n",
        "print(a - b)\n",
        "print(a * b)\n",
        "print(round(a / b,2))\n",
        "print(a // b)\n",
        "print(a % b)\n",
        "print(a ** b)\n",
        "\n",
        "print(a < b)\n",
        "print(a <= b)\n",
        "print(a > b)\n",
        "print(a >= b)\n",
        "print(a != b)\n",
        "print(a == b)\n",
        "\n",
        "\n",
        "# --------------\n",
        "# Пример вывода:\n",
        "#\n",
        "# a=2\n",
        "# b=3\n",
        "# 5\n",
        "# -1\n",
        "# 6\n",
        "# 0.67\n",
        "# 0\n",
        "# 2\n",
        "# 8\n",
        "# True\n",
        "# True\n",
        "# False\n",
        "# False\n",
        "# True\n",
        "# False\n"
      ],
      "execution_count": null,
      "outputs": [
        {
          "output_type": "stream",
          "name": "stdout",
          "text": [
            "a=2\n",
            "b=3\n",
            "5\n",
            "-1\n",
            "6\n",
            "0.67\n",
            "0\n",
            "2\n",
            "8\n",
            "True\n",
            "True\n",
            "False\n",
            "False\n",
            "True\n",
            "False\n"
          ]
        }
      ]
    },
    {
      "cell_type": "markdown",
      "metadata": {
        "id": "FLeZDTjE2kO1"
      },
      "source": [
        ""
      ]
    },
    {
      "cell_type": "markdown",
      "metadata": {
        "id": "jo5y4YoT2kMQ"
      },
      "source": [
        ""
      ]
    },
    {
      "cell_type": "markdown",
      "metadata": {
        "id": "aWUADj7ESZtj"
      },
      "source": [
        "№ 3.2.2\n",
        "\n",
        "Вычислите значение следующего выражения (аргументы - целые числа и вводятся с клавиатуры):\n",
        "![1.JPG](data:image/jpeg;base64,/9j/4AAQSkZJRgABAQEAYABgAAD/4RDcRXhpZgAATU0AKgAAAAgABAE7AAIAAAAzAAAISodpAAQAAAABAAAIfpydAAEAAAA2AAAQnuocAAcAAAgMAAAAPgAAAAAc6gAAAAgAAAAAAAAAAAAAAAAAAAAAAAAAAAAAAAAAAAAAAAAAAAAAAAAAAAAAAAAAAAAAAAAAAAAAAAAAAAAAAAAAAAAAAAAAAAAAAAAAAAAAAAAAAAAAAAAAAAAAAAAAAAAAAAAAAAAAAAAAAAAAAAAAAAAAAAAAAAAAAAAAAAAAAAAAAAAAAAAAAAAAAAAAAAAAAAAAAAAAAAAAAAAAAAAAAAAAAAAAAAAAAAAAAAAAAAAAAAAAAAAAAAAAAAAAAAAAAAAAAAAAAAAAAAAAAAAAAAAAAAAAAAAAAAAAAAAAAAAAAAAAAAAAAAAAAAAAAAAAAAAAAAAAAAAAAAAAAAAAAAAAAAAAAAAAAAAAAAAAAAAAAAAAAAAAAAAAAAAAAAAAAAAAAAAAAAAAAAAAAAAAAAAAAAAAAAAAAAAAAAAAAAAAAAAAAAAAAAAAAAAAAAAAAAAAAAAAAAAAAAAAAAAAAAAAAAAAAAAAAAAAAAAAAAAAAAAAAAAAAAAAAAAAAAAAAAAAAAAAAAAAAAAAAAAAAAAAAAAAAAAAAAAAAAAAAAAAAAAAAAAAAAAAAAAAAAAAAAAAAAAAAAAAAAAAAAAAAAAAAAAAAAAAAAAAAAAAAAAAAAAAAAAAAAAAAAAAAAAAAAAAAAAAAAAAAAAAAAAAAAAAAAAAAAAAAAAAAAAAAAAAAAAAAAAAAAAAAAAAAAAAAAAAAAAAAAAAAAAAAAAAAAAAAAAAAAAAAAAAAAAAAAAAAAAAAAAAAAAAAAAAAAAAAAAAAAAAAAAAAAAAAAAAAAAAAAAAAAAAAAAAAAAAAAAAAAAAAAAAAAAAAAAAAAAAAAAAAAAAAAAAAAAAAAAAAAAAAAAAAAAAAAAAAAAAAAAAAAAAAAAAAAAAAAAAAAAAAAAAAAAAAAAAAAAAAAAAAAAAAAAAAAAAAAAAAAAAAAAAAAAAAAAAAAAAAAAAAAAAAAAAAAAAAAAAAAAAAAAAAAAAAAAAAAAAAAAAAAAAAAAAAAAAAAAAAAAAAAAAAAAAAAAAAAAAAAAAAAAAAAAAAAAAAAAAAAAAAAAAAAAAAAAAAAAAAAAAAAAAAAAAAAAAAAAAAAAAAAAAAAAAAAAAAAAAAAAAAAAAAAAAAAAAAAAAAAAAAAAAAAAAAAAAAAAAAAAAAAAAAAAAAAAAAAAAAAAAAAAAAAAAAAAAAAAAAAAAAAAAAAAAAAAAAAAAAAAAAAAAAAAAAAAAAAAAAAAAAAAAAAAAAAAAAAAAAAAAAAAAAAAAAAAAAAAAAAAAAAAAAAAAAAAAAAAAAAAAAAAAAAAAAAAAAAAAAAAAAAAAAAAAAAAAAAAAAAAAAAAAAAAAAAAAAAAAAAAAAAAAAAAAAAAAAAAAAAAAAAAAAAAAAAAAAAAAAAAAAAAAAAAAAAAAAAAAAAAAAAAAAAAAAAAAAAAAAAAAAAAAAAAAAAAAAAAAAAAAAAAAAAAAAAAAAAAAAAAAAAAAAAAAAAAAAAAAAAAAAAAAAAAAAAAAAAAAAAAAAAAAAAAAAAAAAAAAAAAAAAAAAAAAAAAAAAAAAAAAAAAAAAAAAAAAAAAAAAAAAAAAAAAAAAAAAAAAAAAAAAAAAAAAAAAAAAAAAAAAAAAAAAAAAAAAAAAAAAAAAAAAAAAAAAAAAAAAAAAAAAAAAAAAAAAAAAAAAAAAAAAAAAAAAAAAAAAAAAAAAAAAAAAAAAAAAAAAAAAAAAAAAAAAAAAAAAAAAAAAAAAAAAAAAAAAAAAAAAAAAAAAAAAAAAAAAAAAAAAAAAAAAAAAAAAAAAAAAAAAAAAAAAAAAAAAAAAAAAAAAAAAAAAAAAAAAAAAAAAAAAAAAAAAAAAAAAAAAAAAAAAAAAAAAAAAAAAAAAAAAAAAAAAAAAAAAAAAAAAAAAAAAAAAAAAAAAAAAAAAAAAAAAAAAAAAAAAAAAAAAAAAAAAAAAAAAAAAAAAAAAAAAAAAAAAAAAAAAAAAAAAAAAAAAAAAAAAAAAAAAAAAAAAAAAAAAAAAAAAAAAAAAAAAAAAAAAAAAAAAAAAAAAAAAAAAAAAAAAAAAAAAAAAAAAAAAAAAAAAAAAAAAAAAAAAAAAAAAAAAAAAAAAAAAAAAAAAAAAAAAAAAAAAAAAAAAAAAAAAAAAAAAAAAAAAAAAAAAAAAAAAAAAAAAAAAAAAAAAAAAAAAAAAAAAAAAAAAAAAAAAAAAAAAAAAAAAAAAAAAAAAAAAAAAAAAAAAAAAAAAAAAAAAAAAAAAAAAAAAAAAAAAAAAAAAAAAAAAAAAAAAAAAAAAAAAAAAAAAAAAAAAAAAAAAAAAAAAAAAAAAAAAAAAAAAAAAAAAAAAAAAAAAAAAAAAAAAAAAAAAAAAAAAAAAAAAAAAAAAAAAAAAAAAAAAAAAAAAAAAAAAAAAAAAAAAAAAAAAAAAAAAAAAAAAAAAAAAAAAAAAAAAAAAAAAAAAAAAAAAAAAAAAAAAAAAAAAAAAAAAAAAAAAAAAAAAAAAAAAAAAAAAAAAAAAAAAAAAAAAAAAAAAAAAAAAAAAAAAAAAAAAAAAAAAAAAAAAAAAAAAAAAAAAAAAAAAAAAAAAAAAAAAAAAAAAAAAAAAAAAAAAAAAAAAAAAAAAAAAAAAAAAAAAAAAAAAAAAAAAAAAAAAAAAAAAAAAAAAAAAAAAAAAAAAAAAAAAAAAAAAAAAAAAAAAAAAAAAAAAAAAAAAAAAAAAAAAAAAAAAAAAAAAAAAAAAAAAAAAAAAAAANCo0YPQs9Cw0LnQu9C+0LIg0JTQvNC40YLRgNC40Lkg0KHQtdGA0LPQtdC10LLQuNGHAAAAAeocAAcAAAgMAAAIkAAAAAAc6gAAAAgAAAAAAAAAAAAAAAAAAAAAAAAAAAAAAAAAAAAAAAAAAAAAAAAAAAAAAAAAAAAAAAAAAAAAAAAAAAAAAAAAAAAAAAAAAAAAAAAAAAAAAAAAAAAAAAAAAAAAAAAAAAAAAAAAAAAAAAAAAAAAAAAAAAAAAAAAAAAAAAAAAAAAAAAAAAAAAAAAAAAAAAAAAAAAAAAAAAAAAAAAAAAAAAAAAAAAAAAAAAAAAAAAAAAAAAAAAAAAAAAAAAAAAAAAAAAAAAAAAAAAAAAAAAAAAAAAAAAAAAAAAAAAAAAAAAAAAAAAAAAAAAAAAAAAAAAAAAAAAAAAAAAAAAAAAAAAAAAAAAAAAAAAAAAAAAAAAAAAAAAAAAAAAAAAAAAAAAAAAAAAAAAAAAAAAAAAAAAAAAAAAAAAAAAAAAAAAAAAAAAAAAAAAAAAAAAAAAAAAAAAAAAAAAAAAAAAAAAAAAAAAAAAAAAAAAAAAAAAAAAAAAAAAAAAAAAAAAAAAAAAAAAAAAAAAAAAAAAAAAAAAAAAAAAAAAAAAAAAAAAAAAAAAAAAAAAAAAAAAAAAAAAAAAAAAAAAAAAAAAAAAAAAAAAAAAAAAAAAAAAAAAAAAAAAAAAAAAAAAAAAAAAAAAAAAAAAAAAAAAAAAAAAAAAAAAAAAAAAAAAAAAAAAAAAAAAAAAAAAAAAAAAAAAAAAAAAAAAAAAAAAAAAAAAAAAAAAAAAAAAAAAAAAAAAAAAAAAAAAAAAAAAAAAAAAAAAAAAAAAAAAAAAAAAAAAAAAAAAAAAAAAAAAAAAAAAAAAAAAAAAAAAAAAAAAAAAAAAAAAAAAAAAAAAAAAAAAAAAAAAAAAAAAAAAAAAAAAAAAAAAAAAAAAAAAAAAAAAAAAAAAAAAAAAAAAAAAAAAAAAAAAAAAAAAAAAAAAAAAAAAAAAAAAAAAAAAAAAAAAAAAAAAAAAAAAAAAAAAAAAAAAAAAAAAAAAAAAAAAAAAAAAAAAAAAAAAAAAAAAAAAAAAAAAAAAAAAAAAAAAAAAAAAAAAAAAAAAAAAAAAAAAAAAAAAAAAAAAAAAAAAAAAAAAAAAAAAAAAAAAAAAAAAAAAAAAAAAAAAAAAAAAAAAAAAAAAAAAAAAAAAAAAAAAAAAAAAAAAAAAAAAAAAAAAAAAAAAAAAAAAAAAAAAAAAAAAAAAAAAAAAAAAAAAAAAAAAAAAAAAAAAAAAAAAAAAAAAAAAAAAAAAAAAAAAAAAAAAAAAAAAAAAAAAAAAAAAAAAAAAAAAAAAAAAAAAAAAAAAAAAAAAAAAAAAAAAAAAAAAAAAAAAAAAAAAAAAAAAAAAAAAAAAAAAAAAAAAAAAAAAAAAAAAAAAAAAAAAAAAAAAAAAAAAAAAAAAAAAAAAAAAAAAAAAAAAAAAAAAAAAAAAAAAAAAAAAAAAAAAAAAAAAAAAAAAAAAAAAAAAAAAAAAAAAAAAAAAAAAAAAAAAAAAAAAAAAAAAAAAAAAAAAAAAAAAAAAAAAAAAAAAAAAAAAAAAAAAAAAAAAAAAAAAAAAAAAAAAAAAAAAAAAAAAAAAAAAAAAAAAAAAAAAAAAAAAAAAAAAAAAAAAAAAAAAAAAAAAAAAAAAAAAAAAAAAAAAAAAAAAAAAAAAAAAAAAAAAAAAAAAAAAAAAAAAAAAAAAAAAAAAAAAAAAAAAAAAAAAAAAAAAAAAAAAAAAAAAAAAAAAAAAAAAAAAAAAAAAAAAAAAAAAAAAAAAAAAAAAAAAAAAAAAAAAAAAAAAAAAAAAAAAAAAAAAAAAAAAAAAAAAAAAAAAAAAAAAAAAAAAAAAAAAAAAAAAAAAAAAAAAAAAAAAAAAAAAAAAAAAAAAAAAAAAAAAAAAAAAAAAAAAAAAAAAAAAAAAAAAAAAAAAAAAAAAAAAAAAAAAAAAAAAAAAAAAAAAAAAAAAAAAAAAAAAAAAAAAAAAAAAAAAAAAAAAAAAAAAAAAAAAAAAAAAAAAAAAAAAAAAAAAAAAAAAAAAAAAAAAAAAAAAAAAAAAAAAAAAAAAAAAAAAAAAAAAAAAAAAAAAAAAAAAAAAAAAAAAAAAAAAAAAAAAAAAAAAAAAAAAAAAAAAAAAAAAAAAAAAAAAAAAAAAAAAAAAAAAAAAAAAAAAAAAAAAAAAAAAAAAAAAAAAAAAAAAAAAAAAAAAAAAAAAAAAAAAAAAAAAAAAAAAAAAAAAAAAAAAAAAAAAAAAAAAAAAAAAAAAAAAAAAAAAAAAAAAAAAAAAAAAAAAAAAAAAAAAAAAAAAAAAAAAAAAAAAAAAAAAAAAAAAAAAAAAAAAAAAAAAAAAAAAAAAAAAAAAAAAAAAAAAAAAAAAAAAAAAAAAAAAAAAAAAAAAAAAAAAAAAAAAAAAAAAAAAAAAAAAAAAAAAAAAAAAAAAAAAAAAAAAAAAAAAAAAAAAAAAAAAAAAAAAAAAAAAAAAAAAAAAAAAAAAAAAAAAAAAAAAAAAAAAAAAAAAAAAAAAAAAAAAAAAAAAAAAAAAAAAAAAAAAAAAAAAAAAAAAAAAAAAAAAAAAAAAAAAAAAAAAAAAAAAAAAAAAAAAAAAAAAAAAAAAAAAAAAAAAAAAAAAAAAAAAAAAAAAAAAAAAAAAAAAAAAAAAAAAAAAAAAAAAAAAAAAAAAAAAAAAAAAAAAAAAAAAAAAAAAAAAAAAAAAAAAAAAAAAAAAAAAAAAAAAAAAAAAAAAAAAAAAAAAAAAAAAAAAAAAAAAAAAAAAAAAAAAAAAAAAAAAAAKARDBDMEMAQ5BDsEPgQyBCAAFAQ8BDgEQgRABDgEOQQgACEENQRABDMENQQ1BDIEOARHBAAA/+EKi2h0dHA6Ly9ucy5hZG9iZS5jb20veGFwLzEuMC8APD94cGFja2V0IGJlZ2luPSfvu78nIGlkPSdXNU0wTXBDZWhpSHpyZVN6TlRjemtjOWQnPz4NCjx4OnhtcG1ldGEgeG1sbnM6eD0iYWRvYmU6bnM6bWV0YS8iPjxyZGY6UkRGIHhtbG5zOnJkZj0iaHR0cDovL3d3dy53My5vcmcvMTk5OS8wMi8yMi1yZGYtc3ludGF4LW5zIyI+PHJkZjpEZXNjcmlwdGlvbiByZGY6YWJvdXQ9InV1aWQ6ZmFmNWJkZDUtYmEzZC0xMWRhLWFkMzEtZDMzZDc1MTgyZjFiIiB4bWxuczpkYz0iaHR0cDovL3B1cmwub3JnL2RjL2VsZW1lbnRzLzEuMS8iLz48cmRmOkRlc2NyaXB0aW9uIHJkZjphYm91dD0idXVpZDpmYWY1YmRkNS1iYTNkLTExZGEtYWQzMS1kMzNkNzUxODJmMWIiIHhtbG5zOmRjPSJodHRwOi8vcHVybC5vcmcvZGMvZWxlbWVudHMvMS4xLyI+PGRjOmNyZWF0b3I+PHJkZjpTZXEgeG1sbnM6cmRmPSJodHRwOi8vd3d3LnczLm9yZy8xOTk5LzAyLzIyLXJkZi1zeW50YXgtbnMjIj48cmRmOmxpPtCo0YPQs9Cw0LnQu9C+0LIg0JTQvNC40YLRgNC40Lkg0KHQtdGA0LPQtdC10LLQuNGHPC9yZGY6bGk+PC9yZGY6U2VxPg0KCQkJPC9kYzpjcmVhdG9yPjwvcmRmOkRlc2NyaXB0aW9uPjwvcmRmOlJERj48L3g6eG1wbWV0YT4NCiAgICAgICAgICAgICAgICAgICAgICAgICAgICAgICAgICAgICAgICAgICAgICAgICAgICAgICAgICAgICAgICAgICAgICAgICAgICAgICAgICAgICAgICAgICAgICAgICAgICAKICAgICAgICAgICAgICAgICAgICAgICAgICAgICAgICAgICAgICAgICAgICAgICAgICAgICAgICAgICAgICAgICAgICAgICAgICAgICAgICAgICAgICAgICAgICAgICAgICAgIAogICAgICAgICAgICAgICAgICAgICAgICAgICAgICAgICAgICAgICAgICAgICAgICAgICAgICAgICAgICAgICAgICAgICAgICAgICAgICAgICAgICAgICAgICAgICAgICAgICAgCiAgICAgICAgICAgICAgICAgICAgICAgICAgICAgICAgICAgICAgICAgICAgICAgICAgICAgICAgICAgICAgICAgICAgICAgICAgICAgICAgICAgICAgICAgICAgICAgICAgICAKICAgICAgICAgICAgICAgICAgICAgICAgICAgICAgICAgICAgICAgICAgICAgICAgICAgICAgICAgICAgICAgICAgICAgICAgICAgICAgICAgICAgICAgICAgICAgICAgICAgIAogICAgICAgICAgICAgICAgICAgICAgICAgICAgICAgICAgICAgICAgICAgICAgICAgICAgICAgICAgICAgICAgICAgICAgICAgICAgICAgICAgICAgICAgICAgICAgICAgICAgCiAgICAgICAgICAgICAgICAgICAgICAgICAgICAgICAgICAgICAgICAgICAgICAgICAgICAgICAgICAgICAgICAgICAgICAgICAgICAgICAgICAgICAgICAgICAgICAgICAgICAKICAgICAgICAgICAgICAgICAgICAgICAgICAgICAgICAgICAgICAgICAgICAgICAgICAgICAgICAgICAgICAgICAgICAgICAgICAgICAgICAgICAgICAgICAgICAgICAgICAgIAogICAgICAgICAgICAgICAgICAgICAgICAgICAgICAgICAgICAgICAgICAgICAgICAgICAgICAgICAgICAgICAgICAgICAgICAgICAgICAgICAgICAgICAgICAgICAgICAgICAgCiAgICAgICAgICAgICAgICAgICAgICAgICAgICAgICAgICAgICAgICAgICAgICAgICAgICAgICAgICAgICAgICAgICAgICAgICAgICAgICAgICAgICAgICAgICAgICAgICAgICAKICAgICAgICAgICAgICAgICAgICAgICAgICAgICAgICAgICAgICAgICAgICAgICAgICAgICAgICAgICAgICAgICAgICAgICAgICAgICAgICAgICAgICAgICAgICAgICAgICAgIAogICAgICAgICAgICAgICAgICAgICAgICAgICAgICAgICAgICAgICAgICAgICAgICAgICAgICAgICAgICAgICAgICAgICAgICAgICAgICAgICAgICAgICAgICAgICAgICAgICAgCiAgICAgICAgICAgICAgICAgICAgICAgICAgICAgICAgICAgICAgICAgICAgICAgICAgICAgICAgICAgICAgICAgICAgICAgICAgICAgICAgICAgICAgICAgICAgICAgICAgICAKICAgICAgICAgICAgICAgICAgICAgICAgICAgICAgICAgICAgICAgICAgICAgICAgICAgICAgICAgICAgICAgICAgICAgICAgICAgICAgICAgICAgICAgICAgICAgICAgICAgIAogICAgICAgICAgICAgICAgICAgICAgICAgICAgICAgICAgICAgICAgICAgICAgICAgICAgICAgICAgICAgICAgICAgICAgICAgICAgICAgICAgICAgICAgICAgICAgICAgICAgCiAgICAgICAgICAgICAgICAgICAgICAgICAgICAgICAgICAgICAgICAgICAgICAgICAgICAgICAgICAgICAgICAgICAgICAgICAgICAgICAgICAgICAgICAgICAgICAgICAgICAKICAgICAgICAgICAgICAgICAgICAgICAgICAgICAgICAgICAgICAgICAgICAgICAgICAgICAgICAgICAgICAgICAgICAgICAgICAgICAgICAgICAgICAgICAgICAgICAgICAgIAogICAgICAgICAgICAgICAgICAgICAgICAgICAgICAgICAgICAgICAgICAgICAgICAgICAgICAgICAgICAgICAgICAgICAgICAgICAgICAgICAgICAgICAgICAgICAgICAgICAgCiAgICAgICAgICAgICAgICAgICAgICAgICAgICAgICAgICAgICAgICAgICAgICAgICAgICAgICAgICAgICAgICAgICAgICAgICAgICAgICAgICAgICAgICAgICAgICAgICAgICAKICAgICAgICAgICAgICAgICAgICAgICAgICAgICAgICAgICAgICAgICAgICAgICAgICAgICAgICAgICAgICAgICAgICAgICAgICAgICAgICAgICAgICAgICAgICAgICAgICAgIAogICAgICAgICAgICAgICAgICAgICAgICAgICAgPD94cGFja2V0IGVuZD0ndyc/Pv/bAEMABwUFBgUEBwYFBggHBwgKEQsKCQkKFQ8QDBEYFRoZGBUYFxseJyEbHSUdFxgiLiIlKCkrLCsaIC8zLyoyJyorKv/bAEMBBwgICgkKFAsLFCocGBwqKioqKioqKioqKioqKioqKioqKioqKioqKioqKioqKioqKioqKioqKioqKioqKioqKv/AABEIAHgAvwMBIgACEQEDEQH/xAAfAAABBQEBAQEBAQAAAAAAAAAAAQIDBAUGBwgJCgv/xAC1EAACAQMDAgQDBQUEBAAAAX0BAgMABBEFEiExQQYTUWEHInEUMoGRoQgjQrHBFVLR8CQzYnKCCQoWFxgZGiUmJygpKjQ1Njc4OTpDREVGR0hJSlNUVVZXWFlaY2RlZmdoaWpzdHV2d3h5eoOEhYaHiImKkpOUlZaXmJmaoqOkpaanqKmqsrO0tba3uLm6wsPExcbHyMnK0tPU1dbX2Nna4eLj5OXm5+jp6vHy8/T19vf4+fr/xAAfAQADAQEBAQEBAQEBAAAAAAAAAQIDBAUGBwgJCgv/xAC1EQACAQIEBAMEBwUEBAABAncAAQIDEQQFITEGEkFRB2FxEyIygQgUQpGhscEJIzNS8BVictEKFiQ04SXxFxgZGiYnKCkqNTY3ODk6Q0RFRkdISUpTVFVWV1hZWmNkZWZnaGlqc3R1dnd4eXqCg4SFhoeIiYqSk5SVlpeYmZqio6Slpqeoqaqys7S1tre4ubrCw8TFxsfIycrS09TV1tfY2dri4+Tl5ufo6ery8/T19vf4+fr/2gAMAwEAAhEDEQA/APo6iiigAooooAKKKKACiiigAooooAKKKKACiiigAooooAKKKKACiiigAooooAKKKKACiiigAooooAKKKKACiiigAooooAKKwvFESXsWnabIXC3l9GG8tyjbUBlOGUgj/V9Qe9Tf8IzYf899U/8ABvdf/HKANeisf/hGbD/nvqn/AIN7r/45UQ0HSTLtF9qJfds2/wBtXOd2M4x5vXHNAG7RWP8A8IzYf899U/8ABvdf/HKX/hGbD/nvqn/g3uv/AI5QBr0VjjwxYAYFxqv46vdH/wBqUf8ACMWGSftGq8/9Re6/+OUAbFFZtrodpZ3Kzwy37OucCbUbiVemOVdyD+IrSoAKKKKACiiigAooooAKKKKACiiigAooooAKKKy9b16DQYIpbqC5lSVwgMEYbBJAGckdSeAOT2FAEFz/AKR42sYuq2lnLO3szsqKfyElad/dGysZbhYJbhkHyxQrlnPQAfj3PA6mszSiLnxRrd1/zyMNmD/up5h/WX9Ks6/Bqtzos0Xh+7is79ivlzSpuVfmGeCD1GR0NHRf1/Wg+pz6eN9SOuy6X/wjjzSWt1Db3UlpcGVYhKu5XH7sZwM7s7QOOTmqNrcW9j41ZtPtIZtQvdVkhullt0W4jhEf+sDKxbZkLgtgEN0GQTo6B4f17TL++lurizUahf8A2y4mhZmcrtAEIVlAwMY3ZzjsCeOvoWln/XQT10/rqFZX22f/AITD7Dv/ANH+weds2j7/AJmM569KvXljaahbmC/tYbqEkExzxh1JHTg8VzX/AAiGjf8ACYb/APhH7D7H9gx/x5ps8zzPpjOKX2l8/wAmD+F/L80dWenFeYP4JltL3T9HtfFGvJqFxuubpbfUGSCGMNmRlQDjczbVGepJ5wa9Js7K10+3FvYW0NrCCSI4YwignrwOKwdP0bUIviLq+s3flmzmtIbe0IfLALksCO3zE018S/r+tQ+yzo0XYiqCSFGMk5P506iigAooooAKKKKACiiigAooooAKKKKACiiigCG7uobGzmurqQRwQIZJHboqgZJrDe0svHHh6yvTcXkFpdQBzFFKFDq2DhhgjIx1HI5wa1tV0y31nTZbG9UvBLjeoON2DnB9RxyO9cP4D1R7D4PztKczaQtzCw77kLED9RS7+X9f5D7f1/XU6nwn+80V7s9by6nnB9VMhCf+OBafPc+JFuJBbaVpckIYiN5NTkRmXPBKi3IBx2ycepq3o9kNO0Oxsh/y726RfkoFVtTvbi31/RbeGTbFcyyrKuAdwWJmH05Haqas7Ep3VyL7V4p/6A2j/wDg2l/+RqPtXin/AKA2j/8Ag2l/+Rq26hu7qKys5rq5fZDBG0kjHsoGSfyFS3ZXY9zK+1eKf+gNo/8A4Npf/kaj7V4p/wCgNo//AINpf/kasXRPGGpa7eabNZLpr2l6WeWzEy/abWHHyyMd/JPHyhOM9e9b+h3txeTastxJvFvfvDFwBtQIhA49yaf9fl/mK/8AX9ehF9q8U/8AQG0f/wAG0v8A8jUfavFP/QG0f/wbS/8AyNW3VafUbK1uobW5vLeG4uDiGGSVVeT/AHQTk/hQMi06XVJfM/tazs7XGPL+zXbT7uuc7o0x29c89Mc3qjS4hlmkijljeSIgSIrAlMjIyO3FSUAFFFFABRRRQAUUUUAFFFc54w8QXmh2tlDo9tHdalqFwILaOU/LnaWJPI7D1HUc0m7AdHRVTSpb6bSLWTVoEt754lNxFG25UfHIB57+5+pq3VPRgtQooopAFeVaZ/o2seKfDi8faNet5FX1SYiR/wDx1Gr1WvPZNGlPx6juxn7O2mi6f0Mi7oh+QehfGv68/wBAfwv+vL9T0KsLWf8AkafDv/Xaf/0S1btZ19p0l3rGl3iOqpZSSM6nq26MqMfiaAGTW+vNO5t9S06OIsdiyafI7AdgSJhk++BVTU9K1jUfD+qWN7fWc/2qzkhjEFo0JDspAJJkbI9sVv0Umrqw07O55HYoLrSfAel6NhNT027V76BRiS2VVIm8wdV3E45+9nvXf+Gv+PjXf+wpJ/6LjrdrO0nTpNPl1FpHVhd3jXC7f4QVUYPv8tVe7b73/Nf5E20Vun/B/wAx0FrqKa5c3M2pCWwkjVYbLyFXyWHVt/Vs+h6VyXjSKyg8ZeHZtQZLWykuTcXV1M+E3QITChJ4HLMcdzXeVz2r+HdQ1DWJLu012ezgntPsstvsLhQWyXj+YKr443FWqddLf1/TK01uZ3w4P2/TtV17qNX1GWaNiMZiU7E/Rf1rsqq6Zp1tpGl2+n2Efl21tGI41znAH9atVTtsiVfdhRRRSGFFFFABRRRQAVwOu6ZBrHxc0m1eS622tjNeTCO7lQKTiNNu1hsPX7uM9813kgYxsIyA+DtJGQDXMeFfD2rWWoXer+J7u3u9VuYkt91spCJGhJAGQOSTk8dhQviv/WwPY6K5/d2MuJJowsZ+eJfMkXjqBhtx9sHPoa5f7b/1HvFH/gk/+5K6+igDJ0Kbzkm/07U7vBHOoWX2cr1+7+6jz+v4VLqE+tR3CjSrCwuYduWe5vnhYNk8bVicYxjnP4eujWR4nstS1HQpLTRbtrK6lljAuUPMS7wWYevyg8d+lAIj+1eKf+gNo/8A4Npf/kameb4l87zf7D0XzNu3f/asm7HXGfs3Ssfw7B4lPiueO88VPqunWI2Tj7BDCHmIyEBUZ+UEEnI5IHrjtqPMPIxPtXin/oDaP/4Npf8A5Go+1eKf+gNo/wD4Npf/AJGrbqK4nS1tZZ5d2yJC7bVLHAGeAOSfYUAZP2rxT/0BtH/8G0v/AMjUfavFP/QG0f8A8G0v/wAjUuleJodWuFt0sL+2uMM0kV1CEaFR91m56N/DjOcH0OGa54qg0HVLCxubC9mbUHMdvJAqMrPjOw5YMD74xz164AHfavFP/QG0f/wbS/8AyNR9q8U/9AbR/wDwbS//ACNWcfiBZiDUnGlaoX0kn7fEI491uAM7id+1gRk4UseOlaUviizM1tBp0NxqVxc2wu0htQgYQnGHJdlABzgAnJ9ODQAn2rxT/wBAbR//AAbS/wDyNR9q8U/9AbR//BtL/wDI1RP4z0sabBdRefNLcXJtI7NEHnGcZ3RlSQARg5JIGOc4xWF4X8s/FbxE8dg9g0lnbvLDIiBt5LZY7CVJPByCaOtv62uD0V/63sdF9q8U/wDQG0f/AMG0v/yNVrT59akuGGq2FhbQ7cq9tfPMxbI42tEgxjPOfw9KniLxXYeGY1e9juJRt3uIFUmNNwXcckcbmAwMk9gcGrcOt2k/iCfR4vMa5t7dLiQ7flVWJAGfXjOKNw2NGiiigAooooAKKKKACiiigAooooAKbIWWNig3MASB6mnUUnqgOW+HVlqFl4MgGtQPBqE0809wkn3tzyMcn8MVuX2lW+osjXEl2hQED7PeSwZ+oRhn8au0U3qBlR+HLKKRZFn1IlSCA2q3LDj1Bkwfoas6rLfxWDf2Rbxz3bELGJn2Rpn+Jj1wPQAk/rVyigDnfDza81041XTIrGFFPmSvcieS6kyMMCoAVMZ4IB5AwMVS8WWWp3fijw5c2GlXF1b6dctNPLHJEoAZCuAGcEnv06V19FHbyDo/M82bSteMHjaMaBeZ1on7IfPt8cx7Pm/e8c8/T34qz4e0XWNC1K11Z9JuJvM0mGwuLRZofNikixhhl9hQjP8AFn2r0Cihaf12TX6g9f687/oea2/gnVrG9tPEAiE16mr3GoS6ekq8RzKFKqxIUuoAPJAPIzWvotpq4+JGqareaNPa2V9awxRSNNCxQpnO8K5IznjG7612dFC0t5f5WB67/wBa3/M5Lx5Ab5dGtIGimlGoxXL2PnIkt1FHlmCByA2ODjI6VX+H0j6te+IPEc0DQ/2he+TCrMGPlQrsHIyDzu6Ej3NdFqnh/TdZngn1CB2mtwyxSRTPEyhhhhlCCQccg8VetrWCytY7a0hSCCJQsccahVUDsAKFpf8Art/kD1/r1/zJaKKKACiiigAooooAKKKKACiiigAooooAKKKKACiiigAooooAKKKKACiiigAooooAKKKKACiiigD/2Q==)\n",
        "Округлите результат до 3-х знаков после запятой, используя функцию round()."
      ]
    },
    {
      "cell_type": "code",
      "metadata": {
        "id": "dm5HIRcuTC5s",
        "colab": {
          "base_uri": "https://localhost:8080/"
        },
        "outputId": "765de0b7-647f-4e3c-9852-03587d839b4b"
      },
      "source": [
        "# Программирование на языке высокого уровня (Python).\n",
        "# https://www.yuripetrov.ru/edu/python\n",
        "# Задание task_03_02_02.\n",
        "#\n",
        "# Выполнил: Шугайлов Дмитрий Сергеевич\n",
        "# Группа: АДЭУ-211\n",
        "\n",
        "\n",
        "x = int(input(\"x=\"))\n",
        "y = int(input(\"y=\"))\n",
        "z = int(input(\"z=\"))\n",
        "\n",
        "res = ((x**5+7)/(abs(-6)*y))**(1/3)/(7-(z % y))\n",
        "\n",
        "print(round(res,2))\n",
        "\n",
        "\n",
        "# --------------\n",
        "# Пример вывода:\n",
        "#\n",
        "# x=0\n",
        "# y=1\n",
        "# z=2\n",
        "# 0.15\n"
      ],
      "execution_count": null,
      "outputs": [
        {
          "output_type": "stream",
          "name": "stdout",
          "text": [
            "x=0\n",
            "y=1\n",
            "z=2\n",
            "0.15\n"
          ]
        }
      ]
    },
    {
      "cell_type": "markdown",
      "metadata": {
        "id": "Zef9mZ0w7May"
      },
      "source": [
        "№ 3.2.3\n",
        "\n",
        "Дана электрическая цепь, состоящая из 2-х последовательно соединенных проводников (сопротивление каждого известно). Найти общее сопротивление цепи (округление результата необходимо выполнить до 1-го знака после запятой).\n",
        "\n",
        "Решение (начало и общий ход мыслей):\n",
        "\n",
        "Аналитическое решение.\n",
        "\n",
        "Проводники соединены последовательно, поэтому общее сопротивление цепи будет равно сумме их сопротивлений. Сопротивление может быть вещественным числом, поэтому для его хранения необходимо выбрать тип float.\n",
        "\n",
        "Алгоритм.\n",
        "\n",
        "- ввести 2 вещественных значения - сопротивления проводников;\n",
        "- вычислить их сумму;\n",
        "- вывести ответ на экран.\n"
      ]
    },
    {
      "cell_type": "code",
      "metadata": {
        "colab": {
          "base_uri": "https://localhost:8080/"
        },
        "id": "HkEn0NbW6WeI",
        "outputId": "92723077-50e3-4583-83d4-280cfb036591"
      },
      "source": [
        "# Программирование на языке высокого уровня (Python).\n",
        "# https://www.yuripetrov.ru/edu/python\n",
        "# Задание task_03_02_03.\n",
        "#\n",
        "# Выполнил: Шугайлов Дмитрий Сергеевич\n",
        "# Группа: АДЭУ-211\n",
        "\n",
        "\n",
        "# Сопротивление первого проводника\n",
        "r1 = float(input(\"r1=\"))\n",
        "# Сопротивление второго проводника\n",
        "r2 = float(input(\"r2=\"))\n",
        "\n",
        "# Общее сопротивление\n",
        "r = (r1+r2)\n",
        "\n",
        "print(round(r,1))\n",
        "\n",
        "\n",
        "# --------------\n",
        "# Пример вывода:\n",
        "#\n",
        "# r1=12.2\n",
        "# r2=16.1\n",
        "# 28.3\n"
      ],
      "execution_count": null,
      "outputs": [
        {
          "output_type": "stream",
          "name": "stdout",
          "text": [
            "r1=12.2\n",
            "r2=16.1\n",
            "28.3\n"
          ]
        }
      ]
    },
    {
      "cell_type": "markdown",
      "metadata": {
        "id": "ZMDmnEqY8gXC"
      },
      "source": [
        "№ 3.2.4\n",
        "\n",
        "Дано двузначное и трехзначное число. Для каждого выведите на экран сумму и произведение цифр."
      ]
    },
    {
      "cell_type": "code",
      "metadata": {
        "colab": {
          "base_uri": "https://localhost:8080/"
        },
        "id": "D7KFP_nS8gCV",
        "outputId": "e1f2edf6-174b-450d-f775-800f97f1691b"
      },
      "source": [
        "# Программирование на языке высокого уровня (Python).\n",
        "# https://www.yuripetrov.ru/edu/python\n",
        "# Задание task_03_02_04.\n",
        "#\n",
        "# Выполнил: Шугайлов Дмитрий Сергеевич\n",
        "# Группа: АДЭУ-211\n",
        "\n",
        "\n",
        "# Двузначное число\n",
        "num2 = int(input(\"num2=\"))\n",
        "# Трехзначное число\n",
        "num3 = int(input(\"num3=\"))\n",
        "\n",
        "# 1-я цифра числа 'num2'\n",
        "num2_1 = num2 // 10\n",
        "# 2-я цифра числа 'num2'\n",
        "num2_2 = num2 % 10\n",
        "\n",
        "# Сумма цифр числа 'num2'\n",
        "num2_s = num2_1 + num2_2\n",
        "# Произведение цифр числа 'num2'\n",
        "num2_p = num2_1 * num2_2\n",
        "\n",
        "# 1-я цифра числа 'num3'\n",
        "num3_1 = num3 // 100\n",
        "# 2-я цифра числа 'num3'\n",
        "num3_2 = (num3 % 100) // 10\n",
        "# 3-я цифра числа 'num3'\n",
        "num3_3 = num3 % 10\n",
        "\n",
        "# Сумма цифр числа 'num3'\n",
        "num3_s = num3_1 + num3_2 + num3_3\n",
        " # Произведение цифр числа 'num3'\n",
        "num3_p = num3_1 * num3_2 * num3_3\n",
        "\n",
        "print(num2_s,num2_p)\n",
        "print(num3_s,num3_p)\n",
        "\n",
        "\n",
        "# --------------\n",
        "# Пример вывода:\n",
        "#\n",
        "# Двузначное число: 45\n",
        "# Трехзначное число: 456\n",
        "# Сумма и произведение цифр двузначного числа: 9 20\n",
        "# Сумма и произведение цифр трехзначного числа: 15 120\n"
      ],
      "execution_count": null,
      "outputs": [
        {
          "output_type": "stream",
          "name": "stdout",
          "text": [
            "num2=45\n",
            "num3=456\n",
            "9 20\n",
            "15 120\n"
          ]
        }
      ]
    },
    {
      "cell_type": "markdown",
      "metadata": {
        "id": "twAiBlK8EIOR"
      },
      "source": [
        "№ 3.2.5\n",
        "\n",
        "С начала суток прошло m минут (0<m≤24∗60). Определите:\n",
        "\n",
        "целое количество часов, прошедших с начала суток;\n",
        "\n",
        "количество минут, прошедших с момента начала последнего часа."
      ]
    },
    {
      "cell_type": "code",
      "metadata": {
        "colab": {
          "base_uri": "https://localhost:8080/"
        },
        "id": "9_zi9y7cEK-0",
        "outputId": "d3541ba5-6c9b-4210-f508-715f2f04f16c"
      },
      "source": [
        "# Программирование на языке высокого уровня (Python).\n",
        "# https://www.yuripetrov.ru/edu/python\n",
        "# Задание task_03_02_05.\n",
        "#\n",
        "# Выполнил: Шугайлов Дмитрий Сергеевич\n",
        "# Группа: АДЭУ-211\n",
        "\n",
        "\n",
        "# Количество минут\n",
        "m = int(input(\"m=\"))\n",
        "\n",
        "# Количество часов, прошедших с начала суток\n",
        "h = m // 60\n",
        "# Количество минут, прошедших с момента начала последнего часа\n",
        "m2 = m % 60\n",
        "\n",
        "print(\"Количество часов, прошедших с начала суток:\", h)\n",
        "print(\"Количесвто минут, прошедших с момента начала последнего часа\", m2)\n",
        "\n",
        "# --------------\n",
        "# Пример вывода:\n",
        "#\n",
        "# Количество минут, прошедшее с начала суток: 123\n",
        "# Количество часов, прошедших с начала суток: 2\n",
        "# Количество минут, прошедших с момента начала последнего часа: 3\n"
      ],
      "execution_count": null,
      "outputs": [
        {
          "output_type": "stream",
          "name": "stdout",
          "text": [
            "m=123\n",
            "Количество часов, прошедших с начала суток: 2\n",
            "Количесвто минут, прошедших с момента начала последнего часа 3\n"
          ]
        }
      ]
    },
    {
      "cell_type": "markdown",
      "metadata": {
        "id": "IrSqrNYAFkCQ"
      },
      "source": [
        "№ 3.2.6\n",
        "\n",
        "Дано уравнение ax + b = 0 и отрезок [m;n]. Ответьте на вопрос, попадает ли решение уравнения в указанный отрезок.\n",
        "\n",
        "Решение (начало и общий ход мыслей):\n",
        "\n",
        "Аналитическое решение.\n",
        "\n",
        "Коэффициенты уравнения и величина отрезка - произвольны, возьмем целые числа. Решение x при этом может быть дробным. После определения x составим логическое выражение попадания в отрезок, что и будет ответом.\n",
        "\n",
        "Алгоритм.\n",
        "\n",
        "- ввести все неизвестные величины;\n",
        "- определить корень уравнения;\n",
        "- составить логическое выражение попадания корня в область;\n",
        "- вывести результат попадания на экран.\n"
      ]
    },
    {
      "cell_type": "code",
      "metadata": {
        "colab": {
          "base_uri": "https://localhost:8080/"
        },
        "id": "VL-0EBj7FjWo",
        "outputId": "3793d341-e15d-4a1f-cf1d-c2ac571c3d05"
      },
      "source": [
        "# Программирование на языке высокого уровня (Python).\n",
        "# https://www.yuripetrov.ru/edu/python\n",
        "# Задание task_03_02_06.\n",
        "#\n",
        "# Выполнил: Шугайлов Дмитрий Сергеевич\n",
        "# Группа: АДЭУ-211\n",
        "\n",
        "\n",
        "a = int(input(\"a=\"))\n",
        "b = int(input(\"b=\"))\n",
        "m = int(input(\"m=\"))\n",
        "n = int(input(\"n=\"))\n",
        "\n",
        "x = -1 * (b/a)\n",
        "\n",
        "is_ok = m <= x <= n\n",
        "\n",
        "print(\"Попадает:\", is_ok)\n",
        "\n",
        "\n",
        "# --------------\n",
        "# Пример вывода:\n",
        "#\n",
        "# Введите a = 1\n",
        "# Введите b = 2\n",
        "# Введите m = -5\n",
        "# Введите n = 5\n",
        "# Попадает: True\n"
      ],
      "execution_count": null,
      "outputs": [
        {
          "output_type": "stream",
          "name": "stdout",
          "text": [
            "a=1\n",
            "b=2\n",
            "m=-5\n",
            "n=5\n",
            "Попадает: True\n"
          ]
        }
      ]
    },
    {
      "cell_type": "markdown",
      "metadata": {
        "id": "D2wiXc83kQvN"
      },
      "source": [
        "№ 3.2.7\n",
        "\n",
        "Составьте программу, которая запрашивает название футбольной команды и повторяет его на экране со словами\n",
        "\n",
        "... - чемпион!\n",
        "После этого выполните:\n",
        "\n",
        "используя операцию дублирования, нарисуйте черту (набор \"-\"), длиной, равной размеру названия команды;\n",
        "\n",
        "преобразуйте строку в нижний регистр и выведите на экран:\n",
        "\n",
        "длину наименования команды;\n",
        "\n",
        "есть ли в наименовании команды буква \"п\" (True/False)?\n",
        "\n",
        "сколько раз повторяется буква \"а\"?"
      ]
    },
    {
      "cell_type": "code",
      "metadata": {
        "colab": {
          "base_uri": "https://localhost:8080/"
        },
        "id": "JF9aFKPTkgEr",
        "outputId": "3a5ce546-e2b3-47e6-a219-24d8e23ce34d"
      },
      "source": [
        "# Программирование на языке высокого уровня (Python).\n",
        "# https://www.yuripetrov.ru/edu/python\n",
        "# Задание task_03_02_07.\n",
        "#\n",
        "# Выполнил: Шугайлов Дмитрий Сергеевич\n",
        "# Группа: АДЭУ-211\n",
        "\n",
        "\n",
        "team = input(\"Введите название команды: \")\n",
        "\n",
        "print(team, \"- чемпион!\")\n",
        "\n",
        "print(\"-\"*len(team))\n",
        "\n",
        "# Название команды в нижнем регистре\n",
        "team_lowercase =  team.lower()\n",
        "print('Символов в названии команды:', len(team_lowercase))\n",
        "print('Буква \"п\" есть:', \"п\" in team_lowercase)\n",
        "print('Количество букв \"а\":', team_lowercase.find('а'))\n",
        "\n",
        "\n",
        "# --------------\n",
        "# Пример вывода:\n",
        "#\n",
        "# Введите название команды: Спартак\n",
        "# Спартак - чемпион!\n",
        "# -------\n",
        "# Символов в названии команды: 7\n",
        "# Буква \"п\" есть: True\n",
        "# Количество букв \"а\": 2"
      ],
      "execution_count": null,
      "outputs": [
        {
          "output_type": "stream",
          "name": "stdout",
          "text": [
            "Введите название команды: Спартак\n",
            "Спартак - чемпион!\n",
            "-------\n",
            "Символов в названии команды: 7\n",
            "Буква \"п\" есть: True\n",
            "Количество букв \"а\": 2\n"
          ]
        }
      ]
    },
    {
      "cell_type": "markdown",
      "metadata": {
        "id": "R0FZn4yxvYJN"
      },
      "source": [
        "№ 3.2.8\n",
        "\n",
        "Составьте программу, которая запрашивает название государства и его столицы, а затем выводит сообщение:\n",
        "\n",
        "Государство - ..., столица - ...\n",
        "На месте многоточий должны быть выведены соответствующие значения."
      ]
    },
    {
      "cell_type": "code",
      "metadata": {
        "colab": {
          "base_uri": "https://localhost:8080/"
        },
        "id": "FRYxqlAGwOVR",
        "outputId": "27f5399c-dd6e-4875-ad56-e8e76a84b254"
      },
      "source": [
        "# Программирование на языке высокого уровня (Python).\n",
        "# https://www.yuripetrov.ru/edu/python\n",
        "# Задание task_03_02_08.\n",
        "#\n",
        "# Выполнил: Шугайлов Дмитрий Сергеевич\n",
        "# Группа: АДЭУ-211\n",
        "\n",
        "\n",
        "# Название государства\n",
        "country = \"Россия\"\n",
        "# Название столицы\n",
        "capital = \"Москва\"\n",
        "\n",
        "print(\"Государство - {}, столица - {}\".format(country, capital) )\n",
        "\n",
        "\n",
        "# --------------\n",
        "# Пример вывода:\n",
        "#\n",
        "# Введите название государства: Россия\n",
        "# Введите название столицы: Москва\n",
        "# Государство - Россия, столица - Москва\n"
      ],
      "execution_count": null,
      "outputs": [
        {
          "output_type": "stream",
          "name": "stdout",
          "text": [
            "Государство - Россия, столица - Москва\n"
          ]
        }
      ]
    },
    {
      "cell_type": "markdown",
      "metadata": {
        "id": "c-BLsoyUxX8Y"
      },
      "source": [
        "№ 3.2.9\n",
        "\n",
        "Дано слово объектно-ориентированный. Используя индексацию и срезы составьте из него слова объект, ориентир, тир, кот, рента и выведите их на экран."
      ]
    },
    {
      "cell_type": "code",
      "metadata": {
        "colab": {
          "base_uri": "https://localhost:8080/"
        },
        "id": "eZpMfAX8xapT",
        "outputId": "d1533abe-d32a-4058-ec00-32cc766da56b"
      },
      "source": [
        "# Программирование на языке высокого уровня (Python).\n",
        "# https://www.yuripetrov.ru/edu/python\n",
        "# Задание task_03_02_09.\n",
        "#\n",
        "# Выполнил: Шугайлов Дмитрий Сергеевич\n",
        "# Группа: АДЭУ-211\n",
        "\n",
        "\n",
        "word = \"объектно-ориентированный\"\n",
        "\n",
        "w1 = word[0:6] \n",
        "w2 = word[9:17] \n",
        "w3 = word[14:17] \n",
        "w4 = word[4] + word[0] + word[5]\n",
        "w5 = word[10] + word[3] + word[6] + word[5] + word[19] \n",
        "\n",
        "print(w1, w2, w3, w4, w5, sep=\"\\n\")\n",
        "\n",
        "\n",
        "# --------------\n",
        "# Пример вывода:\n",
        "#\n",
        "# объект\n",
        "# ориентир\n",
        "# тир\n",
        "# кот\n",
        "# рента\n"
      ],
      "execution_count": null,
      "outputs": [
        {
          "output_type": "stream",
          "name": "stdout",
          "text": [
            "объект\n",
            "ориентир\n",
            "тир\n",
            "кот\n",
            "рента\n"
          ]
        }
      ]
    },
    {
      "cell_type": "markdown",
      "metadata": {
        "id": "SiDRTgfE1zN_"
      },
      "source": [
        "№ 3.2.10\n",
        "\n",
        "Создайте 2 пустых списка и выполните операции, описанные в заготовке."
      ]
    },
    {
      "cell_type": "code",
      "metadata": {
        "colab": {
          "base_uri": "https://localhost:8080/"
        },
        "id": "JPVEAj1h12Vk",
        "outputId": "f5002576-7eef-433f-a356-84c79ee04905"
      },
      "source": [
        "# Программирование на языке высокого уровня (Python).\n",
        "# https://www.yuripetrov.ru/edu/python\n",
        "# Задание task_03_02_10.\n",
        "#\n",
        "# Выполнил: Шугайлов Дмитрий Сергеевич\n",
        "# Группа: АДЭУ-211\n",
        "\n",
        "\n",
        "# Создать 2 пустых списка\n",
        "a = []\n",
        "b = []\n",
        "\n",
        "# Добавить 2 вещественных числа (4.5 и 3.4) в список 'a' с помощью append\n",
        "a.append(4.5)\n",
        "a.append(3.4)\n",
        "# Добавить 2 вещественных числа (8.7, 1.3) в список 'a' с помощью extend\n",
        "a.extend([8.7])\n",
        "a.extend([1.3])\n",
        "\n",
        "# Добавить 2 вещественных числа (14.5, 3.4) в список 'b' с помощью append\n",
        "b.append(14.5)\n",
        "b.append(3.4)\n",
        "\n",
        "# Добавить 2 вещественных числа (8.7, 11.3) в список 'b'с помощью extend\n",
        "b.extend([8.7])\n",
        "b.extend([11.3])\n",
        "\n",
        "# Вставить целое число 100 на 2-е и 4-е место списка 'a'\n",
        "a.insert(1, 100)\n",
        "a.insert(3, 100)\n",
        "\n",
        "# Вставить целое число 200 на 1-е и 3-е место списка 'b'\n",
        "b.insert(0, 200)\n",
        "b.insert(2, 200)\n",
        "\n",
        "# Вывести списки на экран\n",
        "print(\"Исходные списки:\")\n",
        "print(\"1-й:\", a)\n",
        "print(\"2-й:\", b)\n",
        "\n",
        "# Удалить первые элементы из списков 'a' и 'b'\n",
        "del a[0]\n",
        "del b[0]\n",
        "\n",
        "# Удалить элемент 100 из списка 'a'\n",
        "a.remove(100)\n",
        "# Удалить элемент 200 из списка 'b'\n",
        "b.remove(200)\n",
        "\n",
        "# Вывести списки на экран\n",
        "print(\"\\nПосле удалений:\")\n",
        "print(\"1-й:\", a)\n",
        "print(\"2-й:\", b)\n",
        "\n",
        "# Создать множества из списков 'a' и 'b', а также их пересечение\n",
        "sa = set(a)\n",
        "sb = set(b)\n",
        "sa_and_sb = sa.intersection(sb)\n",
        "sa_minus_sb = sa.difference(sb)\n",
        "sb_minus_sa = sb.difference(sa)\n",
        "\n",
        "# Вывести экран уникальные элементы каждого списка и общие\n",
        "print(\"\\nУникальные элементы:\")\n",
        "print(\"1-й:\", sa_minus_sb)\n",
        "print(\"2-й:\", sb_minus_sa)\n",
        "print(\"общие:\", sa_and_sb)\n",
        "\n",
        "# Соединить списки 'a' и 'b'\n",
        "c = a + b\n",
        "\n",
        "# Отсортировать список 'c' по возрастанию и убыванию\n",
        "c_asc = sorted(c)\n",
        "c_desc = sorted(c, reverse=True)\n",
        "c_chet = c[1::2]\n",
        "c_nechet = c[::2]\n",
        "pp=1 \n",
        "for x in c_nechet:\n",
        "  pp*=x\n",
        "\n",
        "\n",
        "# Среднее арифметическое элементов списка 'c', расположенных на четных местах\n",
        "sr_ar = sum(c_chet)/len(c_chet)\n",
        "# Среднее геометрическое элементов списка 'c', расположенных на нечетных местах\n",
        "sr_geom = pp*(1/len(c_nechet))\n",
        "\n",
        "# Максимальный и минимальный элементы\n",
        "c_max = max(c)\n",
        "c_min = min(c)\n",
        "\n",
        "# Вывести результаты на экран\n",
        "print(\"\\nИтоговые:\")\n",
        "print(\"3-й:\", c)\n",
        "print(\"Сортировка (возр.):\", c_asc)\n",
        "print(\"Сортировка (убыв.):\", c_desc)\n",
        "print(\"Ср.арифм.=\", round(sr_ar))\n",
        "print(\"Ср.геометр.=\", round(sr_geom))\n",
        "print(\"Макс. и мин.:\", c_max, c_min)\n",
        "\n",
        "\n",
        "# --------------\n",
        "# Пример вывода:\n",
        "#\n",
        "# Исходные списки:\n",
        "# 1-й: [4.5, 100, 3.4, 100, 8.7, 1.3]\n",
        "# 2-й: [200, 14.5, 200, 3.4, 8.7, 11.3]\n",
        "#\n",
        "# После удалений:\n",
        "# 1-й: [3.4, 100, 8.7, 1.3]\n",
        "# 2-й: [14.5, 3.4, 8.7, 11.3]\n",
        "#\n",
        "# Уникальные элементы:\n",
        "# 1-й: {8.7, 1.3, 3.4, 100}\n",
        "# 2-й: {8.7, 11.3, 3.4, 14.5}\n",
        "# общие: {8.7, 3.4}\n",
        "#\n",
        "# Итоговые:\n",
        "# 3-й: [3.4, 100, 8.7, 1.3, 14.5, 3.4, 8.7, 11.3]\n",
        "# Сортировка (возр.): [1.3, 3.4, 3.4, 8.7, 8.7, 11.3, 14.5, 100]\n",
        "# Сортировка (убыв.): [100, 14.5, 11.3, 8.7, 8.7, 3.4, 3.4, 1.3]\n",
        "# Ср. арифм. = 29.00, ср. геометр. = 7.82\n",
        "# Макс. и мин.: 100 1.3\n"
      ],
      "execution_count": null,
      "outputs": [
        {
          "output_type": "stream",
          "name": "stdout",
          "text": [
            "Исходные списки:\n",
            "1-й: [4.5, 100, 3.4, 100, 8.7, 1.3]\n",
            "2-й: [200, 14.5, 200, 3.4, 8.7, 11.3]\n",
            "\n",
            "После удалений:\n",
            "1-й: [3.4, 100, 8.7, 1.3]\n",
            "2-й: [14.5, 3.4, 8.7, 11.3]\n",
            "\n",
            "Уникальные элементы:\n",
            "1-й: {1.3, 100}\n",
            "2-й: {11.3, 14.5}\n",
            "общие: {8.7, 3.4}\n",
            "\n",
            "Итоговые:\n",
            "3-й: [3.4, 100, 8.7, 1.3, 14.5, 3.4, 8.7, 11.3]\n",
            "Сортировка (возр.): [1.3, 3.4, 3.4, 8.7, 8.7, 11.3, 14.5, 100]\n",
            "Сортировка (убыв.): [100, 14.5, 11.3, 8.7, 8.7, 3.4, 3.4, 1.3]\n",
            "Ср.арифм.= 29\n",
            "Ср.геометр.= 933\n",
            "Макс. и мин.: 100 1.3\n"
          ]
        }
      ]
    }
  ]
}