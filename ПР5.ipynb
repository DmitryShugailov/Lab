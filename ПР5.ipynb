{
  "nbformat": 4,
  "nbformat_minor": 0,
  "metadata": {
    "colab": {
      "name": "ПР5.ipynb",
      "provenance": [],
      "authorship_tag": "ABX9TyO/uE1teW1VYjRdJrBVPxVt",
      "include_colab_link": true
    },
    "kernelspec": {
      "name": "python3",
      "display_name": "Python 3"
    },
    "language_info": {
      "name": "python"
    }
  },
  "cells": [
    {
      "cell_type": "markdown",
      "metadata": {
        "id": "view-in-github",
        "colab_type": "text"
      },
      "source": [
        "<a href=\"https://colab.research.google.com/github/DmitryShugailov/Lab/blob/main/%D0%9F%D0%A05.ipynb\" target=\"_parent\"><img src=\"https://colab.research.google.com/assets/colab-badge.svg\" alt=\"Open In Colab\"/></a>"
      ]
    },
    {
      "cell_type": "code",
      "execution_count": 2,
      "metadata": {
        "colab": {
          "base_uri": "https://localhost:8080/"
        },
        "id": "cGgclY8VwQpv",
        "outputId": "ae7801f6-4d29-4085-ba58-b90e6f383f91"
      },
      "outputs": [
        {
          "output_type": "stream",
          "name": "stdout",
          "text": [
            "Общая площадь комнаты =  48.6\n",
            "Площадь для обклейки обоями =  47.6\n",
            "Необходимое количество рулонов = 16\n"
          ]
        }
      ],
      "source": [
        "class Win_Door:\n",
        "    def __init__(self,x,y):\n",
        "      self.square=x*y\n",
        "class Room:\n",
        "    def __init__(self,width,lenght,hight,wd):\n",
        "      self.square=2*hight*(width+lenght)\n",
        "      self.wd=[]\n",
        "    def addWD(self,w,h):\n",
        "      self.wd.append(Win_Door(w,h)) \n",
        "    def workSurface(self):\n",
        "      new_square=self.square\n",
        "      for i in self.wd:\n",
        "        new_square-=i.square\n",
        "        return new_square\n",
        "    def roolons(self,rw,rl):\n",
        "      roolon=rw*rl\n",
        "      new_square=self.square\n",
        "      for i in self.wd:\n",
        "        new_square-=i.square\n",
        "        roolon_needed=round(new_square/roolon)\n",
        "        return roolon_needed\n",
        "\n",
        "r1=Room(6,3,2.7,0)\n",
        "print(\"Общая площадь комнаты = \", r1.square)\n",
        "r1.addWD(1,1)\n",
        "r1.addWD(1,1)\n",
        "r1.addWD(1,2)\n",
        "print(\"Площадь для обклейки обоями = \", r1.workSurface())\n",
        "print(\"Необходимое количество рулонов =\", r1.roolons(1.5,2))"
      ]
    }
  ]
}